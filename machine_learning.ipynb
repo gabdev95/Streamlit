{
 "cells": [
  {
   "cell_type": "code",
   "execution_count": null,
   "metadata": {},
   "outputs": [],
   "source": [
    "# FIZ A IMPORTAÇÃO DOS PACOTES QUE SERÃO USADOS"
   ]
  },
  {
   "cell_type": "code",
   "execution_count": null,
   "metadata": {},
   "outputs": [],
   "source": [
    "import numpy as np # linear algebra\n",
    "import pandas as pd # data processing, CSV file I/O (e.g. pd.read_csv)\n",
    "import matplotlib.pyplot as plt # for data visualization\n",
    "import seaborn as sns # for statistical data visualization\n",
    "%matplotlib inline\n",
    "from sklearn.cluster import KMeans\n",
    "import warnings\n",
    "\n",
    "warnings.filterwarnings('ignore')"
   ]
  },
  {
   "cell_type": "code",
   "execution_count": null,
   "metadata": {},
   "outputs": [],
   "source": [
    "# FIZ A LEITURA E ARMAZENAMENTO DA TABELA COM OS MEUS DADOS PARA\n",
    "# MANIPULAÇÃO NO PYTHON/JUPYTER NOTEBOOK"
   ]
  },
  {
   "cell_type": "code",
   "execution_count": null,
   "metadata": {},
   "outputs": [],
   "source": [
    "dados = pd.read_csv('dataset.csv')\n",
    "print(\"Shape of the data= \", dados.shape)\n",
    "dados.head()"
   ]
  },
  {
   "cell_type": "code",
   "execution_count": null,
   "metadata": {},
   "outputs": [],
   "source": [
    "# FIZ UMA ORGANIZAÇÃO DOS DADOS NUMA NOVA TABELA, PARA PRESERVAR\n",
    "# A TABELA ORIGINAL E TIREI ELEMENTOS DA TABELA QUE NÃO VOU USAR\n",
    "# NA ANÁLISE"
   ]
  },
  {
   "cell_type": "code",
   "execution_count": null,
   "metadata": {},
   "outputs": [],
   "source": [
    "df = dados.rename(columns={'track_name':'name' , 'track_id':'id' })\n",
    "df = df[[\"acousticness\",\"artists\",\"danceability\",\"duration_ms\",\"energy\",\"explicit\",\"id\",\"instrumentalness\",\"key\",\"liveness\",\"loudness\",\"mode\",\"name\",\"popularity\",\"speechiness\",\"tempo\",\"valence\",\"Unnamed: 0\",\"album_name\",\"time_signature\"]]\n",
    "df = df.drop(columns = ['id', 'name','artists','album_name',\"Unnamed: 0\",\"time_signature\"])"
   ]
  },
  {
   "cell_type": "code",
   "execution_count": null,
   "metadata": {},
   "outputs": [],
   "source": [
    "df"
   ]
  },
  {
   "cell_type": "code",
   "execution_count": null,
   "metadata": {},
   "outputs": [],
   "source": [
    "import numpy as np # linear algebra\n",
    "import pandas as pd # data processing, CSV file I/O (e.g. pd.read_csv)\n",
    "import matplotlib.pyplot as plt # for data visualization\n",
    "import seaborn as sns # for statistical data visualization\n",
    "%matplotlib inline\n",
    "from sklearn.cluster import KMeans\n",
    "import warnings\n",
    "\n",
    "warnings.filterwarnings('ignore')"
   ]
  },
  {
   "cell_type": "code",
   "execution_count": null,
   "metadata": {},
   "outputs": [],
   "source": [
    "# FIZ A LEITURA E ARMAZENAMENTO DA TABELA COM OS MEUS DADOS PARA\n",
    "# MANIPULAÇÃO NO PYTHON/JUPYTER NOTEBOOK"
   ]
  },
  {
   "cell_type": "code",
   "execution_count": null,
   "metadata": {},
   "outputs": [],
   "source": [
    "dados = pd.read_csv('dataset.csv')\n",
    "print(\"Shape of the data= \", dados.shape)\n",
    "dados.head()"
   ]
  },
  {
   "cell_type": "code",
   "execution_count": null,
   "metadata": {},
   "outputs": [],
   "source": [
    "# FIZ UMA ORGANIZAÇÃO DOS DADOS NUMA NOVA TABELA, PARA PRESERVAR\n",
    "# A TABELA ORIGINAL E TIREI ELEMENTOS DA TABELA QUE NÃO VOU USAR\n",
    "# NA ANÁLISE"
   ]
  },
  {
   "cell_type": "code",
   "execution_count": null,
   "metadata": {},
   "outputs": [],
   "source": [
    "df = dados.rename(columns={'track_name':'name' , 'track_id':'id' })\n",
    "df = df[[\"acousticness\",\"artists\",\"danceability\",\"duration_ms\",\"energy\",\"explicit\",\"id\",\"instrumentalness\",\"key\",\"liveness\",\"loudness\",\"mode\",\"name\",\"popularity\",\"speechiness\",\"tempo\",\"valence\",\"Unnamed: 0\",\"album_name\",\"time_signature\"]]\n",
    "df = df.drop(columns = ['id', 'name','artists','album_name',\"Unnamed: 0\",\"time_signature\"])"
   ]
  },
  {
   "cell_type": "code",
   "execution_count": null,
   "metadata": {},
   "outputs": [],
   "source": [
    "df"
   ]
  }
 ],
 "metadata": {
  "language_info": {
   "name": "python"
  },
  "orig_nbformat": 4
 },
 "nbformat": 4,
 "nbformat_minor": 2
}
