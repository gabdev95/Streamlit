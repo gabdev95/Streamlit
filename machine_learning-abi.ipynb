{
 "cells": [
  {
   "cell_type": "code",
   "execution_count": 7,
   "id": "659301cc",
   "metadata": {},
   "outputs": [],
   "source": [
    "# DEMONSTRAÇÃO DE COMO ESTÁ A TABELA QUE VOU UTILIZAR \n",
    "# OS DADOS NO MOMENTO ATUAL"
   ]
  },
  {
   "cell_type": "code",
   "execution_count": 8,
   "id": "9f62ca73",
   "metadata": {
    "scrolled": false
   },
   "outputs": [
    {
     "name": "stdout",
     "output_type": "stream",
     "text": [
      "<class 'pandas.core.frame.DataFrame'>\n",
      "RangeIndex: 114000 entries, 0 to 113999\n",
      "Data columns (total 14 columns):\n",
      " #   Column            Non-Null Count   Dtype  \n",
      "---  ------            --------------   -----  \n",
      " 0   acousticness      114000 non-null  float64\n",
      " 1   danceability      114000 non-null  float64\n",
      " 2   duration_ms       114000 non-null  int64  \n",
      " 3   energy            114000 non-null  float64\n",
      " 4   explicit          114000 non-null  bool   \n",
      " 5   instrumentalness  114000 non-null  float64\n",
      " 6   key               114000 non-null  int64  \n",
      " 7   liveness          114000 non-null  float64\n",
      " 8   loudness          114000 non-null  float64\n",
      " 9   mode              114000 non-null  int64  \n",
      " 10  popularity        114000 non-null  int64  \n",
      " 11  speechiness       114000 non-null  float64\n",
      " 12  tempo             114000 non-null  float64\n",
      " 13  valence           114000 non-null  float64\n",
      "dtypes: bool(1), float64(9), int64(4)\n",
      "memory usage: 11.4 MB\n"
     ]
    }
   ],
   "source": [
    "df.info()"
   ]
  },
  {
   "cell_type": "code",
   "execution_count": 9,
   "id": "29b6012f",
   "metadata": {},
   "outputs": [],
   "source": [
    "# ESTOU CONFERINDO SE NÃO TEM VALOR NULL EM DADOS NA TABELA"
   ]
  },
  {
   "cell_type": "code",
   "execution_count": 10,
   "id": "df27332d",
   "metadata": {},
   "outputs": [
    {
     "data": {
      "text/plain": [
       "acousticness        0\n",
       "danceability        0\n",
       "duration_ms         0\n",
       "energy              0\n",
       "explicit            0\n",
       "instrumentalness    0\n",
       "key                 0\n",
       "liveness            0\n",
       "loudness            0\n",
       "mode                0\n",
       "popularity          0\n",
       "speechiness         0\n",
       "tempo               0\n",
       "valence             0\n",
       "dtype: int64"
      ]
     },
     "execution_count": 10,
     "metadata": {},
     "output_type": "execute_result"
    }
   ],
   "source": [
    "df.isnull().sum()"
   ]
  },
  {
   "cell_type": "code",
   "execution_count": 11,
   "id": "a14b62df",
   "metadata": {},
   "outputs": [],
   "source": [
    "# VOU FAZER UM PROCESSO DE NORMALIZAÇÃO DOS DADOS COMEÇANDO POR\n",
    "# CONVERTER OS VALORES \"FALSE\" \"TRUE\" EM 0 E 1"
   ]
  },
  {
   "cell_type": "code",
   "execution_count": 12,
   "id": "62b14930",
   "metadata": {},
   "outputs": [],
   "source": [
    "# CONVERTENDO EXPLICIT EM VALORES NUMÉRICOS"
   ]
  },
  {
   "cell_type": "code",
   "execution_count": 13,
   "id": "d0e82a4b",
   "metadata": {},
   "outputs": [],
   "source": [
    "X = df\n",
    "y = df['explicit']"
   ]
  },
  {
   "cell_type": "code",
   "execution_count": 14,
   "id": "db455991",
   "metadata": {},
   "outputs": [],
   "source": [
    "from sklearn.preprocessing import LabelEncoder\n",
    "le = LabelEncoder()\n",
    "X['explicit'] = le.fit_transform(X['explicit'])\n"
   ]
  },
  {
   "cell_type": "code",
   "execution_count": 15,
   "id": "94ea2757",
   "metadata": {},
   "outputs": [
    {
     "name": "stdout",
     "output_type": "stream",
     "text": [
      "<class 'pandas.core.frame.DataFrame'>\n",
      "RangeIndex: 114000 entries, 0 to 113999\n",
      "Data columns (total 14 columns):\n",
      " #   Column            Non-Null Count   Dtype  \n",
      "---  ------            --------------   -----  \n",
      " 0   acousticness      114000 non-null  float64\n",
      " 1   danceability      114000 non-null  float64\n",
      " 2   duration_ms       114000 non-null  int64  \n",
      " 3   energy            114000 non-null  float64\n",
      " 4   explicit          114000 non-null  int64  \n",
      " 5   instrumentalness  114000 non-null  float64\n",
      " 6   key               114000 non-null  int64  \n",
      " 7   liveness          114000 non-null  float64\n",
      " 8   loudness          114000 non-null  float64\n",
      " 9   mode              114000 non-null  int64  \n",
      " 10  popularity        114000 non-null  int64  \n",
      " 11  speechiness       114000 non-null  float64\n",
      " 12  tempo             114000 non-null  float64\n",
      " 13  valence           114000 non-null  float64\n",
      "dtypes: float64(9), int64(5)\n",
      "memory usage: 12.2 MB\n"
     ]
    }
   ],
   "source": [
    "X.info()"
   ]
  },
  {
   "cell_type": "code",
   "execution_count": 16,
   "id": "403b9c14",
   "metadata": {},
   "outputs": [],
   "source": [
    "# DEMONSTRANDO A TRANSFORMAÇÃO DO VALOR EXPLICIT DE BOOLEANO\n",
    "# ( FALSE/ TRUE) EM INTEIRO (0 E 1)"
   ]
  },
  {
   "cell_type": "code",
   "execution_count": 17,
   "id": "64f1bb75",
   "metadata": {},
   "outputs": [
    {
     "data": {
      "text/html": [
       "<div>\n",
       "<style scoped>\n",
       "    .dataframe tbody tr th:only-of-type {\n",
       "        vertical-align: middle;\n",
       "    }\n",
       "\n",
       "    .dataframe tbody tr th {\n",
       "        vertical-align: top;\n",
       "    }\n",
       "\n",
       "    .dataframe thead th {\n",
       "        text-align: right;\n",
       "    }\n",
       "</style>\n",
       "<table border=\"1\" class=\"dataframe\">\n",
       "  <thead>\n",
       "    <tr style=\"text-align: right;\">\n",
       "      <th></th>\n",
       "      <th>acousticness</th>\n",
       "      <th>danceability</th>\n",
       "      <th>duration_ms</th>\n",
       "      <th>energy</th>\n",
       "      <th>explicit</th>\n",
       "      <th>instrumentalness</th>\n",
       "      <th>key</th>\n",
       "      <th>liveness</th>\n",
       "      <th>loudness</th>\n",
       "      <th>mode</th>\n",
       "      <th>popularity</th>\n",
       "      <th>speechiness</th>\n",
       "      <th>tempo</th>\n",
       "      <th>valence</th>\n",
       "    </tr>\n",
       "  </thead>\n",
       "  <tbody>\n",
       "    <tr>\n",
       "      <th>0</th>\n",
       "      <td>0.0322</td>\n",
       "      <td>0.676</td>\n",
       "      <td>230666</td>\n",
       "      <td>0.4610</td>\n",
       "      <td>0</td>\n",
       "      <td>0.000001</td>\n",
       "      <td>1</td>\n",
       "      <td>0.3580</td>\n",
       "      <td>-6.746</td>\n",
       "      <td>0</td>\n",
       "      <td>73</td>\n",
       "      <td>0.1430</td>\n",
       "      <td>87.917</td>\n",
       "      <td>0.715</td>\n",
       "    </tr>\n",
       "    <tr>\n",
       "      <th>1</th>\n",
       "      <td>0.9240</td>\n",
       "      <td>0.420</td>\n",
       "      <td>149610</td>\n",
       "      <td>0.1660</td>\n",
       "      <td>0</td>\n",
       "      <td>0.000006</td>\n",
       "      <td>1</td>\n",
       "      <td>0.1010</td>\n",
       "      <td>-17.235</td>\n",
       "      <td>1</td>\n",
       "      <td>55</td>\n",
       "      <td>0.0763</td>\n",
       "      <td>77.489</td>\n",
       "      <td>0.267</td>\n",
       "    </tr>\n",
       "    <tr>\n",
       "      <th>2</th>\n",
       "      <td>0.2100</td>\n",
       "      <td>0.438</td>\n",
       "      <td>210826</td>\n",
       "      <td>0.3590</td>\n",
       "      <td>0</td>\n",
       "      <td>0.000000</td>\n",
       "      <td>0</td>\n",
       "      <td>0.1170</td>\n",
       "      <td>-9.734</td>\n",
       "      <td>1</td>\n",
       "      <td>57</td>\n",
       "      <td>0.0557</td>\n",
       "      <td>76.332</td>\n",
       "      <td>0.120</td>\n",
       "    </tr>\n",
       "    <tr>\n",
       "      <th>3</th>\n",
       "      <td>0.9050</td>\n",
       "      <td>0.266</td>\n",
       "      <td>201933</td>\n",
       "      <td>0.0596</td>\n",
       "      <td>0</td>\n",
       "      <td>0.000071</td>\n",
       "      <td>0</td>\n",
       "      <td>0.1320</td>\n",
       "      <td>-18.515</td>\n",
       "      <td>1</td>\n",
       "      <td>71</td>\n",
       "      <td>0.0363</td>\n",
       "      <td>181.740</td>\n",
       "      <td>0.143</td>\n",
       "    </tr>\n",
       "    <tr>\n",
       "      <th>4</th>\n",
       "      <td>0.4690</td>\n",
       "      <td>0.618</td>\n",
       "      <td>198853</td>\n",
       "      <td>0.4430</td>\n",
       "      <td>0</td>\n",
       "      <td>0.000000</td>\n",
       "      <td>2</td>\n",
       "      <td>0.0829</td>\n",
       "      <td>-9.681</td>\n",
       "      <td>1</td>\n",
       "      <td>82</td>\n",
       "      <td>0.0526</td>\n",
       "      <td>119.949</td>\n",
       "      <td>0.167</td>\n",
       "    </tr>\n",
       "  </tbody>\n",
       "</table>\n",
       "</div>"
      ],
      "text/plain": [
       "   acousticness  danceability  duration_ms  energy  explicit  \\\n",
       "0        0.0322         0.676       230666  0.4610         0   \n",
       "1        0.9240         0.420       149610  0.1660         0   \n",
       "2        0.2100         0.438       210826  0.3590         0   \n",
       "3        0.9050         0.266       201933  0.0596         0   \n",
       "4        0.4690         0.618       198853  0.4430         0   \n",
       "\n",
       "   instrumentalness  key  liveness  loudness  mode  popularity  speechiness  \\\n",
       "0          0.000001    1    0.3580    -6.746     0          73       0.1430   \n",
       "1          0.000006    1    0.1010   -17.235     1          55       0.0763   \n",
       "2          0.000000    0    0.1170    -9.734     1          57       0.0557   \n",
       "3          0.000071    0    0.1320   -18.515     1          71       0.0363   \n",
       "4          0.000000    2    0.0829    -9.681     1          82       0.0526   \n",
       "\n",
       "     tempo  valence  \n",
       "0   87.917    0.715  \n",
       "1   77.489    0.267  \n",
       "2   76.332    0.120  \n",
       "3  181.740    0.143  \n",
       "4  119.949    0.167  "
      ]
     },
     "execution_count": 17,
     "metadata": {},
     "output_type": "execute_result"
    }
   ],
   "source": [
    "X.head()"
   ]
  },
  {
   "cell_type": "code",
   "execution_count": 18,
   "id": "1df2130a",
   "metadata": {},
   "outputs": [],
   "source": [
    "# FAZENDO A NORMALIZAÇÃO DOS DADOS DA TABELA USANDO O MÉTODO MINMAXSCALER"
   ]
  },
  {
   "cell_type": "code",
   "execution_count": 19,
   "id": "bb73ec64",
   "metadata": {},
   "outputs": [],
   "source": [
    "cols = X.columns"
   ]
  },
  {
   "cell_type": "code",
   "execution_count": 20,
   "id": "6aefc94a",
   "metadata": {},
   "outputs": [],
   "source": [
    "from sklearn.preprocessing import MinMaxScaler\n",
    "ms = MinMaxScaler()\n",
    "X= ms.fit_transform(X)"
   ]
  },
  {
   "cell_type": "code",
   "execution_count": 21,
   "id": "726b260a",
   "metadata": {},
   "outputs": [],
   "source": [
    "X = pd.DataFrame(X, columns = [cols])"
   ]
  },
  {
   "cell_type": "code",
   "execution_count": 22,
   "id": "a8fcbee0",
   "metadata": {},
   "outputs": [],
   "source": [
    "# VERIFICANDO SE OS DADOS FORAM NORMALIZADOS "
   ]
  },
  {
   "cell_type": "code",
   "execution_count": 23,
   "id": "62fb8a98",
   "metadata": {},
   "outputs": [
    {
     "data": {
      "text/html": [
       "<div>\n",
       "<style scoped>\n",
       "    .dataframe tbody tr th:only-of-type {\n",
       "        vertical-align: middle;\n",
       "    }\n",
       "\n",
       "    .dataframe tbody tr th {\n",
       "        vertical-align: top;\n",
       "    }\n",
       "\n",
       "    .dataframe thead tr th {\n",
       "        text-align: left;\n",
       "    }\n",
       "</style>\n",
       "<table border=\"1\" class=\"dataframe\">\n",
       "  <thead>\n",
       "    <tr>\n",
       "      <th></th>\n",
       "      <th>acousticness</th>\n",
       "      <th>danceability</th>\n",
       "      <th>duration_ms</th>\n",
       "      <th>energy</th>\n",
       "      <th>explicit</th>\n",
       "      <th>instrumentalness</th>\n",
       "      <th>key</th>\n",
       "      <th>liveness</th>\n",
       "      <th>loudness</th>\n",
       "      <th>mode</th>\n",
       "      <th>popularity</th>\n",
       "      <th>speechiness</th>\n",
       "      <th>tempo</th>\n",
       "      <th>valence</th>\n",
       "    </tr>\n",
       "  </thead>\n",
       "  <tbody>\n",
       "    <tr>\n",
       "      <th>0</th>\n",
       "      <td>0.032329</td>\n",
       "      <td>0.686294</td>\n",
       "      <td>0.044043</td>\n",
       "      <td>0.4610</td>\n",
       "      <td>0.0</td>\n",
       "      <td>0.000001</td>\n",
       "      <td>0.090909</td>\n",
       "      <td>0.3580</td>\n",
       "      <td>0.791392</td>\n",
       "      <td>0.0</td>\n",
       "      <td>0.73</td>\n",
       "      <td>0.148187</td>\n",
       "      <td>0.361245</td>\n",
       "      <td>0.718593</td>\n",
       "    </tr>\n",
       "    <tr>\n",
       "      <th>1</th>\n",
       "      <td>0.927711</td>\n",
       "      <td>0.426396</td>\n",
       "      <td>0.028566</td>\n",
       "      <td>0.1660</td>\n",
       "      <td>0.0</td>\n",
       "      <td>0.000006</td>\n",
       "      <td>0.090909</td>\n",
       "      <td>0.1010</td>\n",
       "      <td>0.597377</td>\n",
       "      <td>1.0</td>\n",
       "      <td>0.55</td>\n",
       "      <td>0.079067</td>\n",
       "      <td>0.318397</td>\n",
       "      <td>0.268342</td>\n",
       "    </tr>\n",
       "    <tr>\n",
       "      <th>2</th>\n",
       "      <td>0.210843</td>\n",
       "      <td>0.444670</td>\n",
       "      <td>0.040255</td>\n",
       "      <td>0.3590</td>\n",
       "      <td>0.0</td>\n",
       "      <td>0.000000</td>\n",
       "      <td>0.000000</td>\n",
       "      <td>0.1170</td>\n",
       "      <td>0.736123</td>\n",
       "      <td>1.0</td>\n",
       "      <td>0.57</td>\n",
       "      <td>0.057720</td>\n",
       "      <td>0.313643</td>\n",
       "      <td>0.120603</td>\n",
       "    </tr>\n",
       "    <tr>\n",
       "      <th>3</th>\n",
       "      <td>0.908635</td>\n",
       "      <td>0.270051</td>\n",
       "      <td>0.038557</td>\n",
       "      <td>0.0596</td>\n",
       "      <td>0.0</td>\n",
       "      <td>0.000071</td>\n",
       "      <td>0.000000</td>\n",
       "      <td>0.1320</td>\n",
       "      <td>0.573701</td>\n",
       "      <td>1.0</td>\n",
       "      <td>0.71</td>\n",
       "      <td>0.037617</td>\n",
       "      <td>0.746758</td>\n",
       "      <td>0.143719</td>\n",
       "    </tr>\n",
       "    <tr>\n",
       "      <th>4</th>\n",
       "      <td>0.470884</td>\n",
       "      <td>0.627411</td>\n",
       "      <td>0.037969</td>\n",
       "      <td>0.4430</td>\n",
       "      <td>0.0</td>\n",
       "      <td>0.000000</td>\n",
       "      <td>0.181818</td>\n",
       "      <td>0.0829</td>\n",
       "      <td>0.737103</td>\n",
       "      <td>1.0</td>\n",
       "      <td>0.82</td>\n",
       "      <td>0.054508</td>\n",
       "      <td>0.492863</td>\n",
       "      <td>0.167839</td>\n",
       "    </tr>\n",
       "  </tbody>\n",
       "</table>\n",
       "</div>"
      ],
      "text/plain": [
       "  acousticness danceability duration_ms  energy explicit instrumentalness  \\\n",
       "0     0.032329     0.686294    0.044043  0.4610      0.0         0.000001   \n",
       "1     0.927711     0.426396    0.028566  0.1660      0.0         0.000006   \n",
       "2     0.210843     0.444670    0.040255  0.3590      0.0         0.000000   \n",
       "3     0.908635     0.270051    0.038557  0.0596      0.0         0.000071   \n",
       "4     0.470884     0.627411    0.037969  0.4430      0.0         0.000000   \n",
       "\n",
       "        key liveness  loudness mode popularity speechiness     tempo   valence  \n",
       "0  0.090909   0.3580  0.791392  0.0       0.73    0.148187  0.361245  0.718593  \n",
       "1  0.090909   0.1010  0.597377  1.0       0.55    0.079067  0.318397  0.268342  \n",
       "2  0.000000   0.1170  0.736123  1.0       0.57    0.057720  0.313643  0.120603  \n",
       "3  0.000000   0.1320  0.573701  1.0       0.71    0.037617  0.746758  0.143719  \n",
       "4  0.181818   0.0829  0.737103  1.0       0.82    0.054508  0.492863  0.167839  "
      ]
     },
     "execution_count": 23,
     "metadata": {},
     "output_type": "execute_result"
    }
   ],
   "source": [
    "X.head()"
   ]
  }
 ],
 "metadata": {
  "kernelspec": {
   "display_name": "Python 3 (ipykernel)",
   "language": "python",
   "name": "python3"
  },
  "language_info": {
   "codemirror_mode": {
    "name": "ipython",
    "version": 3
   },
   "file_extension": ".py",
   "mimetype": "text/x-python",
   "name": "python",
   "nbconvert_exporter": "python",
   "pygments_lexer": "ipython3",
   "version": "3.9.13"
  }
 },
 "nbformat": 4,
 "nbformat_minor": 5
}
